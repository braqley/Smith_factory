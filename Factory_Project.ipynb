{
 "cells": [
  {
   "cell_type": "code",
   "execution_count": 1,
   "metadata": {},
   "outputs": [],
   "source": [
    "#Machines in the factory: \n",
    "conveyor_belt = []\n",
    "\n",
    "def machine(*argv):\n",
    "    for material in argv:\n",
    "        if material >= 7:\n",
    "            conveyor_belt.append(material - 7)\n",
    "        else:\n",
    "            conveyor_belt.append(7 - material)\n",
    "    print(\"So far, the factory has produced:\", len(conveyor_belt), \"sevens!\")\n",
    "    \n",
    "def view_output(conveyor):\n",
    "    print(\"So far, the factory has produced\", len(conveyor), \"sevens:\")\n",
    "    for x in conveyor:\n",
    "        print(x, end=' ')"
   ]
  },
  {
   "cell_type": "code",
   "execution_count": 2,
   "metadata": {},
   "outputs": [
    {
     "name": "stdout",
     "output_type": "stream",
     "text": [
      "So far, the factory has produced 0 sevens:\n"
     ]
    }
   ],
   "source": [
    "conveyor_belt = []\n",
    "view_output(conveyor_belt)"
   ]
  },
  {
   "cell_type": "markdown",
   "metadata": {},
   "source": [
    "<br/><br/>\n",
    "<br/><br/>\n",
    "<br/><br/>\n",
    "<br/><br/>\n",
    "<br/><br/>\n",
    "<br/><br/>\n",
    "<br/><br/>\n",
    "<br/><br/>"
   ]
  },
  {
   "cell_type": "markdown",
   "metadata": {},
   "source": [
    "# Professor Holland has built a factory!\n",
    "\n",
    "**The factory has machines that produce sevens, sending them down a conveyor belt.**"
   ]
  },
  {
   "cell_type": "markdown",
   "metadata": {},
   "source": [
    "<br/><br/>\n",
    "<br/><br/>\n",
    "<br/><br/>\n",
    "<br/><br/>\n",
    "<br/><br/>\n",
    "<br/><br/>\n",
    "<br/><br/>\n",
    "<br/><br/>"
   ]
  },
  {
   "cell_type": "markdown",
   "metadata": {},
   "source": [
    "# He's hired some workers---the job is mindless, but it pays the bills!"
   ]
  },
  {
   "cell_type": "markdown",
   "metadata": {},
   "source": [
    "<br/><br/>\n",
    "<br/><br/>\n",
    "<br/><br/>\n",
    "<br/><br/>\n",
    "<br/><br/>\n",
    "<br/><br/>\n",
    "<br/><br/>\n",
    "<br/><br/>\n",
    "<br/><br/>"
   ]
  },
  {
   "cell_type": "markdown",
   "metadata": {},
   "source": [
    "# To demonstrate his machine to the public, he calls his employees to the front of the factory.\n",
    "\n",
    "**\"Employees,\" he commands, \"Place a raw material---followed by a comma---into the machine below!\"**"
   ]
  },
  {
   "cell_type": "code",
   "execution_count": null,
   "metadata": {},
   "outputs": [],
   "source": [
    "machine()"
   ]
  },
  {
   "cell_type": "markdown",
   "metadata": {},
   "source": [
    "**\"Voila!\" he exclaims.** "
   ]
  },
  {
   "cell_type": "markdown",
   "metadata": {},
   "source": [
    "<br/><br/>\n",
    "<br/><br/>\n",
    "<br/><br/>\n",
    "<br/><br/>\n",
    "<br/><br/>\n",
    "<br/><br/>\n",
    "<br/><br/>\n",
    "<br/><br/>"
   ]
  },
  {
   "cell_type": "markdown",
   "metadata": {},
   "source": [
    "# The townspeople are skeptical. The machine says it's producing sevens, but who knows?\n",
    "\n",
    "**\"But just look on the conveyor belt,\" the professor insists...**"
   ]
  },
  {
   "cell_type": "code",
   "execution_count": null,
   "metadata": {},
   "outputs": [],
   "source": [
    "view_output(conveyor_belt)"
   ]
  },
  {
   "cell_type": "markdown",
   "metadata": {},
   "source": [
    "**\"When matched with the numbers my employees put into the machine, do we get sevens?\"**"
   ]
  },
  {
   "cell_type": "markdown",
   "metadata": {},
   "source": [
    "<br/><br/>\n",
    "<br/><br/>\n",
    "<br/><br/>\n",
    "<br/><br/>\n",
    "<br/><br/>\n",
    "<br/><br/>\n",
    "<br/><br/>\n",
    "<br/><br/>"
   ]
  },
  {
   "cell_type": "markdown",
   "metadata": {},
   "source": [
    "## To prove the machine's value, Professor Holland challenges the rest of the town to compete with the ten machines in his factory.\n",
    "\n",
    "**He empties the conveyor belt and turns on each machine...**"
   ]
  },
  {
   "cell_type": "code",
   "execution_count": null,
   "metadata": {},
   "outputs": [],
   "source": [
    "conveyor_belt = []\n",
    "machine()"
   ]
  },
  {
   "cell_type": "markdown",
   "metadata": {},
   "source": [
    "**\"Let's see if your hand-produced sevens can match my machines!\"**"
   ]
  },
  {
   "cell_type": "code",
   "execution_count": null,
   "metadata": {},
   "outputs": [],
   "source": [
    "machine(2, 6, 5, 9, 1, 4, 8, 3)\n",
    "machine(2, 6, 5, 9, 1, 4, 8, 3)\n",
    "machine(2, 6, 5, 9, 1, 4, 8, 3)\n",
    "machine(2, 6, 5, 9, 1, 4, 8, 3)\n",
    "machine(2, 6, 5, 9, 1, 4, 8, 3)\n",
    "machine(2, 6, 5, 9, 1, 4, 8, 3)\n",
    "machine(2, 6, 5, 9, 1, 4, 8, 3)\n",
    "machine(2, 6, 5, 9, 1, 4, 8, 3)\n",
    "machine(2, 6, 5, 9, 1, 4, 8, 3)\n",
    "machine(2, 6, 5, 9, 1, 4, 8, 3)"
   ]
  },
  {
   "cell_type": "markdown",
   "metadata": {},
   "source": [
    "<br/><br/>\n",
    "<br/><br/>\n",
    "<br/><br/>\n",
    "<br/><br/>\n",
    "<br/><br/>\n",
    "<br/><br/>"
   ]
  },
  {
   "cell_type": "markdown",
   "metadata": {},
   "source": [
    "# That's a lot of sevens! Let's look at what's coming down the conveyor belt..."
   ]
  },
  {
   "cell_type": "code",
   "execution_count": null,
   "metadata": {},
   "outputs": [],
   "source": [
    "view_output(conveyor_belt)"
   ]
  },
  {
   "cell_type": "markdown",
   "metadata": {},
   "source": [
    "**Recall what we initially put into each machine: 2, 6, 5, 9, 1, 4, 8, 3**\n",
    "\n",
    "**Does the output make sevens out of what we put into the machine?**"
   ]
  },
  {
   "cell_type": "markdown",
   "metadata": {},
   "source": [
    "<br/><br/>\n",
    "<br/><br/>\n",
    "<br/><br/>\n",
    "<br/><br/>\n",
    "<br/><br/>\n",
    "<br/><br/>\n",
    "<br/><br/>\n",
    "<br/><br/>\n",
    "<br/><br/>\n",
    "<br/><br/>\n",
    "<br/><br/>\n",
    "<br/><br/>\n",
    "<br/><br/>\n",
    "<br/><br/>"
   ]
  },
  {
   "cell_type": "markdown",
   "metadata": {},
   "source": [
    "# \"Good luck to you, neighbors!\" Professor Holland quips. And with that, he receeds back into the factory, never to be seen in public again. \n",
    "\n",
    "# Yet the townspeople would feel the reverberations of his invention for generations to come.\n",
    "\n",
    "**-How do you think this new technology will affect the lives of the townspeople?**"
   ]
  }
 ],
 "metadata": {
  "kernelspec": {
   "display_name": "Python 3",
   "language": "python",
   "name": "python3"
  },
  "language_info": {
   "codemirror_mode": {
    "name": "ipython",
    "version": 3
   },
   "file_extension": ".py",
   "mimetype": "text/x-python",
   "name": "python",
   "nbconvert_exporter": "python",
   "pygments_lexer": "ipython3",
   "version": "3.6.7"
  }
 },
 "nbformat": 4,
 "nbformat_minor": 2
}
